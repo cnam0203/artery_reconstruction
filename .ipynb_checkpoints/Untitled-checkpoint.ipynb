{
 "cells": [
  {
   "cell_type": "code",
   "execution_count": 1,
   "id": "ed799ec4",
   "metadata": {},
   "outputs": [
    {
     "name": "stdout",
     "output_type": "stream",
     "text": [
      "Jupyter environment detected. Enabling Open3D WebVisualizer.\n",
      "[Open3D INFO] WebRTC GUI backend enabled.\n",
      "[Open3D INFO] WebRTCWindowSystem: HTTP handshake server disabled.\n"
     ]
    }
   ],
   "source": [
    "import numpy as np\n",
    "from scipy.spatial import ConvexHull\n",
    "import matplotlib.pyplot as plt\n",
    "\n",
    "def plot_random_points_on_circles(N: int, R: list, center: list):\n",
    "    \"\"\"\n",
    "    Generates two sets of N random points on two circles with radii R and centers at center.\n",
    "    Scales the points and calculates the convex hull of the scaled points.\n",
    "    Plots the convex hull and the original points.\n",
    "\n",
    "    :param N: Number of points to generate on each circle\n",
    "    :type N: int\n",
    "    :param R: List of radii for the two circles\n",
    "    :type R: list\n",
    "    :param center: List of x and y coordinates for the center of the circles\n",
    "    :type center: list\n",
    "    \"\"\"\n",
    "    x = np.zeros((len(R), N))\n",
    "    y = np.zeros((len(R), N))\n",
    "    theta = np.linspace(0, 2 * np.pi, N + 1)\n",
    "    theta = theta[:-1]\n",
    "\n",
    "    for i in range(len(R)):\n",
    "        x[i,:] = R[i] * (np.random.randn() + 1) * np.cos(theta + np.random.rand()) + center[0]\n",
    "        y[i,:] = R[i] * (np.random.randn() + 1) * np.sin(theta + np.random.rand()) + center[1]\n",
    "    print(x.shape, y.shape)\n",
    "    \n",
    "    x = np.concatenate((x[0,:], x[1,:]))\n",
    "    y = np.concatenate((y[0,:], y[1,:]))\n",
    "    print(x.shape, y.shape)\n",
    "    \n",
    "    rSquared = x**2 + y**2\n",
    "    q = rSquared / max(rSquared)**2\n",
    "    xx = x / q\n",
    "    yy = y / q\n",
    "\n",
    "    k = ConvexHull(np.column_stack((xx, yy)))\n",
    "    plt.plot(x[k.vertices], y[k.vertices], 'r-', x, y, 'b*')\n",
    "    plt.show()"
   ]
  },
  {
   "cell_type": "code",
   "execution_count": null,
   "id": "7149879e",
   "metadata": {},
   "outputs": [],
   "source": [
    "N = 20\n",
    "R = [2, 6]\n",
    "center = [0, 0]\n",
    "\n",
    "plot_random_points_on_circles(N, R, center)"
   ]
  }
 ],
 "metadata": {
  "kernelspec": {
   "display_name": "Python 3",
   "language": "python",
   "name": "python3"
  },
  "language_info": {
   "codemirror_mode": {
    "name": "ipython",
    "version": 3
   },
   "file_extension": ".py",
   "mimetype": "text/x-python",
   "name": "python",
   "nbconvert_exporter": "python",
   "pygments_lexer": "ipython3",
   "version": "3.6.4"
  }
 },
 "nbformat": 4,
 "nbformat_minor": 5
}
