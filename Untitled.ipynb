{
 "cells": [
  {
   "cell_type": "code",
   "execution_count": 1,
   "id": "ed799ec4",
   "metadata": {},
   "outputs": [
    {
     "name": "stdout",
     "output_type": "stream",
     "text": [
      "Jupyter environment detected. Enabling Open3D WebVisualizer.\n",
      "[Open3D INFO] WebRTC GUI backend enabled.\n",
      "[Open3D INFO] WebRTCWindowSystem: HTTP handshake server disabled.\n"
     ]
    }
   ],
   "source": [
    "import skeletor as sk\n",
    "import nibabel as nib\n",
    "import numpy as np\n",
    "\n",
    "from skimage.morphology import skeletonize, thin\n",
    "from skimage import measure\n",
    "from scipy.ndimage import binary_dilation\n",
    "\n",
    "from scipy.spatial import KDTree, distance_matrix\n",
    "from sklearn.cluster import DBSCAN, KMeans\n",
    "\n",
    "import matplotlib.pyplot as plt\n",
    "from mpl_toolkits.mplot3d import Axes3D\n",
    "\n",
    "import math\n",
    "import time\n",
    "import os\n",
    "import json\n",
    "import heapq\n",
    "import copy\n",
    "import trimesh as tm\n",
    "import random\n",
    "\n",
    "from preprocess_data import *\n",
    "from process_graph import *\n",
    "from visualize_graph import *\n",
    "from slice_selection import *\n",
    "from visualize_mesh import *\n",
    "from marcube import *\n",
    "from artery_ica import *\n",
    "\n",
    "\n",
    "import plotly.graph_objs as go\n",
    "from skimage import morphology\n",
    "from scipy.ndimage import distance_transform_edt\n",
    "\n",
    "from vmtk import pypes\n",
    "from vmtk import vmtkscripts\n",
    "import vtk\n",
    "\n",
    "from scipy.spatial import cKDTree\n",
    "from scipy.spatial.transform import Rotation as R"
   ]
  },
  {
   "cell_type": "code",
   "execution_count": null,
   "id": "7149879e",
   "metadata": {},
   "outputs": [],
   "source": [
    "dataset_dir = 'C:/Users/nguc4116/Desktop/artery_reconstruction/dataset/'\n",
    "\n"
   ]
  }
 ],
 "metadata": {
  "kernelspec": {
   "display_name": "Python 3",
   "language": "python",
   "name": "python3"
  },
  "language_info": {
   "codemirror_mode": {
    "name": "ipython",
    "version": 3
   },
   "file_extension": ".py",
   "mimetype": "text/x-python",
   "name": "python",
   "nbconvert_exporter": "python",
   "pygments_lexer": "ipython3",
   "version": "3.6.4"
  }
 },
 "nbformat": 4,
 "nbformat_minor": 5
}
